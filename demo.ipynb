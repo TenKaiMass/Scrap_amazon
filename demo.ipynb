{
 "cells": [
  {
   "cell_type": "markdown",
   "metadata": {},
   "source": [
    "\n",
    "# Oh bien la montre !\n",
    "Ici nous faire une demo du scraping de données sur amazon\n",
    "Le but étant de trouvé des acticle classé par ordre de prix pour le moment "
   ]
  },
  {
   "cell_type": "code",
   "execution_count": 43,
   "metadata": {},
   "outputs": [],
   "source": [
    "from bs4 import BeautifulSoup\n",
    "from requests_html import HTMLSession\n",
    "import nest_asyncio\n",
    "\n",
    "\n"
   ]
  },
  {
   "cell_type": "markdown",
   "metadata": {},
   "source": [
    "Nous allons d'abors charger la page amazon qui contient tout les prooduits...\n",
    "Nous utilison le module requests_html car il permet d'avoir le user agent configurer"
   ]
  },
  {
   "cell_type": "code",
   "execution_count": 44,
   "metadata": {},
   "outputs": [],
   "source": [
    "pattern_produit=\"camera+vlog\"\n",
    "url = f\"https://www.amazon.fr/s?k={pattern_produit}&i=electronics\"\n",
    "\n",
    "\n",
    "def getPageRH(url):\n",
    "    nest_asyncio.apply()\n",
    "    session = HTMLSession()\n",
    "    reponse = session.get(url)\n",
    "    reponse.html.render(sleep=1)\n",
    "    soup = BeautifulSoup(reponse.html. html, 'html.parser')\n",
    "    return soup\n",
    "\n"
   ]
  },
  {
   "cell_type": "markdown",
   "metadata": {},
   "source": [
    "Nous pouvons afficher les produits avec leurs titre leur prix, le nombre d'avis et la note de la page, sans le contenu sponsorisé\n"
   ]
  },
  {
   "cell_type": "code",
   "execution_count": 45,
   "metadata": {},
   "outputs": [],
   "source": [
    "def getMytitleProduct(url):\n",
    "    page = getPageRH(url)\n",
    "    for item in page.find('div', {'class' : 's-main-slot s-result-list s-search-results sg-row'}).findAll({'div'}) : \n",
    "        if item.get(\"data-component-type\") :\n",
    "            title = item.find('a', {'class': 'a-link-normal s-underline-text s-underline-link-text s-link-style a-text-normal'}).text.strip()[:25]\n",
    "            try:\n",
    "                price = item.find('span',{'class': 'a-price-whole'}).text.strip().replace(',','.')\n",
    "            except AttributeError:\n",
    "                price = 0\n",
    "            try:\n",
    "                avis = item.find('span',{'class': 'a-size-base puis-light-weight-text s-link-centralized-style'}).text.strip()\n",
    "            except AttributeError:\n",
    "                avis = 0\n",
    "            try:\n",
    "                stars = float(item.find('span',{'class':'a-icon-alt'}).text.strip()[:3].replace(',','.'))\n",
    "            except AttributeError:\n",
    "                stars = 0\n",
    "            print(title, f\"Price : {price}; Avis : {avis}; stars : {stars}\\n-------\")\n"
   ]
  },
  {
   "cell_type": "markdown",
   "metadata": {},
   "source": [
    "Maintenant il faut qu'on transforme les données que nous avons recuperer pour les dans un tableau,\n",
    "j'entend par la l'utilisation de pandas"
   ]
  },
  {
   "cell_type": "code",
   "execution_count": 48,
   "metadata": {},
   "outputs": [],
   "source": [
    "import pandas\n",
    "\n",
    "def getDataframeFromAmazon(url):\n",
    "    list_avis = []\n",
    "    list_nom = []\n",
    "    list_prix = []\n",
    "    list_note = []\n",
    "    page = getPageRH(url)\n",
    "    for item in page.find('div', {'class' : 's-main-slot s-result-list s-search-results sg-row'}).findAll({'div'}) : \n",
    "        if item.get(\"data-component-type\") :\n",
    "            title = item.find('a', {'class': 'a-link-normal s-underline-text s-underline-link-text s-link-style a-text-normal'}).text.strip()[:25]\n",
    "            list_nom.append(title)\n",
    "            try:\n",
    "                price = item.find('span',{'class': 'a-price-whole'}).text.strip().replace(',','.')\n",
    "            except AttributeError:\n",
    "                price = 0\n",
    "            list_prix.append(price)\n",
    "            try:\n",
    "                avis = item.find('span',{'class': 'a-size-base puis-light-weight-text s-link-centralized-style'}).text.strip()\n",
    "            except AttributeError:\n",
    "                avis = 0\n",
    "            list_avis.append(avis)\n",
    "            try:\n",
    "                stars = float(item.find('span',{'class':'a-icon-alt'}).text.strip()[:3].replace(',','.'))\n",
    "            except AttributeError:\n",
    "                stars = 0\n",
    "            list_note.append(stars)\n",
    "            #print(title, f\"Price : {price}; Avis : {avis}; stars : {stars}\\n-------\")\n",
    "    df = pandas.DataFrame.from_dict( {\"Product\" : list_nom, \"Prix\" : list_prix, \"Nombre_avis\" : list_avis, \"Note\" : list_note})\n",
    "    return df"
   ]
  },
  {
   "cell_type": "markdown",
   "metadata": {},
   "source": [
    "La fonction permet de faire un dataframe par page, il faut donc regrouper les dataframes en un seul"
   ]
  },
  {
   "cell_type": "code",
   "execution_count": 49,
   "metadata": {},
   "outputs": [],
   "source": [
    "def regroupDf(proxies,produit):\n",
    "    tab = []\n",
    "    for num in range(5):\n",
    "        url = f\"https://www.amazon.fr/s?k={produit}&i=electronics&page={str(num+1)}\"\n",
    "        #print(f\"page {num+1}:\\n\")\n",
    "        tab.append(getDataframeFromAmazon(url,proxies))\n",
    "\n",
    "    df = pandas.concat(tab, sort=False)\n",
    "    return df"
   ]
  },
  {
   "cell_type": "markdown",
   "metadata": {},
   "source": [
    "Une fois les dataframes recuperés nous pouvons mettre dans un csv "
   ]
  },
  {
   "cell_type": "code",
   "execution_count": null,
   "metadata": {},
   "outputs": [],
   "source": [
    "def toCsv(df : pandas.DataFrame, path : str):\n",
    "    df.to_csv(path_or_buf=path)"
   ]
  }
 ],
 "metadata": {
  "kernelspec": {
   "display_name": "Python 3.x",
   "language": "python",
   "name": "python3"
  },
  "language_info": {
   "codemirror_mode": {
    "name": "ipython",
    "version": 3
   },
   "file_extension": ".py",
   "mimetype": "text/x-python",
   "name": "python",
   "nbconvert_exporter": "python",
   "pygments_lexer": "ipython3",
   "version": "3.9.6"
  },
  "orig_nbformat": 4,
  "vscode": {
   "interpreter": {
    "hash": "31f2aee4e71d21fbe5cf8b01ff0e069b9275f58929596ceb00d14d90e3e16cd6"
   }
  }
 },
 "nbformat": 4,
 "nbformat_minor": 2
}
