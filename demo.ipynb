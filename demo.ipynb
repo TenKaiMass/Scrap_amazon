{
 "cells": [
  {
   "cell_type": "markdown",
   "metadata": {},
   "source": [
    "\n",
    "# Oh bien la montre !\n",
    "Ici nous faire une demo du scraping de données sur amazon\n",
    "Le but étant de trouvé des acticle classé par ordre de prix pour le moment "
   ]
  },
  {
   "cell_type": "code",
   "execution_count": 4,
   "metadata": {},
   "outputs": [],
   "source": [
    "from bs4 import BeautifulSoup\n",
    "from requests_html import HTMLSession"
   ]
  },
  {
   "cell_type": "markdown",
   "metadata": {},
   "source": [
    "Nous allons d'abors charger la page amazon qui contient tout les prooduits...\n",
    "Nous utilison le module requests_html car il permet d'avoir le user agent configurer"
   ]
  },
  {
   "cell_type": "code",
   "execution_count": 6,
   "metadata": {},
   "outputs": [],
   "source": [
    "pattern_produit=\"camera+vlog\"\n",
    "url = f\"https://www.amazon.fr/s?k={pattern_produit}&i=electronics\"\n",
    "session = HTMLSession()\n",
    "\n",
    "def getPageRH(url):\n",
    "    reponse = session.get(url,timeout=2)\n",
    "    reponse.html.render(sleep=1)\n",
    "    soup = BeautifulSoup(reponse.html. html, 'html.parser')\n",
    "    return soup\n"
   ]
  },
  {
   "cell_type": "markdown",
   "metadata": {},
   "source": [
    "Nous pouvons afficher les produits avec leurs titre leur prix, le nombre d'avis et la note de la page, sans le contenu sponsorisé\n"
   ]
  },
  {
   "cell_type": "code",
   "execution_count": 3,
   "metadata": {},
   "outputs": [
    {
     "name": "stdout",
     "output_type": "stream",
     "text": [
      "Caméscope 4K Caméra Vidéo \n",
      "-------\n",
      "Sony ZV-1 | Kit Appareil  \n",
      "-------\n",
      "Acoletty Appareil Photo N \n",
      "-------\n",
      "Sony ZV-1 | Appareil Vlog \n",
      "-------\n",
      "KANDAO QooCam 8K Enterpri \n",
      "-------\n",
      "NBD Vlogging Camera Appar \n",
      "-------\n",
      "Caméscope 4K Caméra Vidéo \n",
      "-------\n",
      "Sony Alpha ZV-E10 | Appar \n",
      "-------\n",
      "ORDRO EP6 Plus Caméscope  \n",
      "-------\n",
      "NBD Appareil Photo numéri \n",
      "-------\n",
      "Appareil Photo Numérique  \n",
      "-------\n",
      "Caméscope ORDRO EP8 4k 60 \n",
      "-------\n",
      "DJI Pocket 2 - Caméra 4K  \n",
      "-------\n",
      "Panasonic Lumix S5K | App \n",
      "-------\n",
      "ORDRO 4K Caméscope Caméra \n",
      "-------\n",
      "Panasonic Lumix GH5S | Ap \n",
      "-------\n",
      "10\" LED Ring Light avec E \n",
      "-------\n",
      "Caméra Vidéo 2.7K Camésco \n",
      "-------\n",
      "PNJ – CAMÉRA 4K Pocket -  \n",
      "-------\n",
      "Panasonic Lumix S5K | App \n",
      "-------\n",
      "Téléprompteur 13 Pouces,  \n",
      "-------\n",
      "AKASO Caméra Sport 4K 30f \n",
      "-------\n",
      "Sony RX100 III | Appareil \n",
      "-------\n",
      "T osuny Appareil Photo Nu \n",
      "-------\n"
     ]
    }
   ],
   "source": [
    "def getMytitleProduct(url):\n",
    "    page = getPageRH(url)\n",
    "    for item in page.find('div', {'class' : 's-main-slot s-result-list s-search-results sg-row'}).findAll({'div'}) : \n",
    "        if item.get(\"data-component-type\") :\n",
    "            title = item.find('a', {'class': 'a-link-normal s-underline-text s-underline-link-text s-link-style a-text-normal'}).text.strip()[:25]\n",
    "            try:\n",
    "                price = item.find('span',{'class': 'a-price-whole'}).text.strip().replace(',','.')\n",
    "            except AttributeError:\n",
    "                price = 0\n",
    "            try:\n",
    "                avis = item.find('span',{'class': 'a-size-base puis-light-weight-text s-link-centralized-style'}).text.strip()\n",
    "            except AttributeError:\n",
    "                avis = 0\n",
    "            try:\n",
    "                stars = float(item.find('span',{'class':'a-icon-alt'}).text.strip()[:3].replace(',','.'))\n",
    "            except AttributeError:\n",
    "                stars = 0\n",
    "            print(title, f\"Price : {price}; Avis : {avis}; stars : {stars}\\n-------\")\n",
    "getMytitleProduct(url)"
   ]
  }
 ],
 "metadata": {
  "kernelspec": {
   "display_name": "Python 3.x",
   "language": "python",
   "name": "python3"
  },
  "language_info": {
   "codemirror_mode": {
    "name": "ipython",
    "version": 3
   },
   "file_extension": ".py",
   "mimetype": "text/x-python",
   "name": "python",
   "nbconvert_exporter": "python",
   "pygments_lexer": "ipython3",
   "version": "3.9.6"
  },
  "orig_nbformat": 4,
  "vscode": {
   "interpreter": {
    "hash": "31f2aee4e71d21fbe5cf8b01ff0e069b9275f58929596ceb00d14d90e3e16cd6"
   }
  }
 },
 "nbformat": 4,
 "nbformat_minor": 2
}
